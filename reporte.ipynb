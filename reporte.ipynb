{
 "cells": [
  {
   "cell_type": "code",
   "execution_count": 3,
   "metadata": {},
   "outputs": [],
   "source": [
    "import pandas as pd\n",
    "import numpy as np\n",
    "import psycopg2\n",
    "import boto3\n",
    "import configparser\n",
    "import seaborn as sb\n",
    "import matplotlib.pyplot as plt"
   ]
  },
  {
   "attachments": {},
   "cell_type": "markdown",
   "metadata": {},
   "source": [
    "# Reporte Final"
   ]
  },
  {
   "attachments": {},
   "cell_type": "markdown",
   "metadata": {},
   "source": [
    "## Scope"
   ]
  },
  {
   "attachments": {},
   "cell_type": "markdown",
   "metadata": {},
   "source": [
    "Se trabajó con la información de la base de datos \"Video_Games_Sales_as_at_22_Dec_2016\", que nos da información sobre ventas de video juegos a fecha 22 de diciembre de 2016. \n",
    "\n",
    "Esta información se obtuvo a través de métodos de web scraping en distintas páginas web."
   ]
  },
  {
   "attachments": {},
   "cell_type": "markdown",
   "metadata": {},
   "source": [
    "En esta base de datos podemos ver las siguientes variables:\n",
    "* **Nombre** - nombre del video juego\n",
    "* **Platform** - plataforma en la que fue lanzado\n",
    "* **Year_of_Release** - año de lanzamiento\n",
    "* **Genre** - género al que pertenece\n",
    "* **Publisher** - editor encargado del lanzamiento\n",
    "* **NA_Sales** - ventas en Norte América\n",
    "* **EU_Sales** - ventas en Europa\n",
    "* **JP_Sales** - ventas en Japón\n",
    "* **Other_Sales** - ventas en otros lugares\n",
    "* **Global_Sales** - ventas totales en el mundo\n",
    "* **Critic_Score** - calificación de los críticos\n",
    "* **Critic_Count** - número de críticas por los críticos\n",
    "* **User_Score** - calificación de los usuarios\n",
    "* **User_Count** - número de críticas por los usuarios\n",
    "* **Develper** - desarrollador\n",
    "* **Rating** - tipo de clasificación"
   ]
  },
  {
   "attachments": {},
   "cell_type": "markdown",
   "metadata": {},
   "source": [
    "Podemos notar, al analizar la base de datos, que existen varios datos faltantes en las últimas 5 variables.\n",
    "\n",
    "Esto puede ser debido al método utilizado de web scraping para obtener la información.\n",
    "\n",
    "A continuación verémos un resumen de la información del dataset."
   ]
  },
  {
   "cell_type": "code",
   "execution_count": 6,
   "metadata": {},
   "outputs": [
    {
     "name": "stdout",
     "output_type": "stream",
     "text": [
      "<class 'pandas.core.frame.DataFrame'>\n",
      "RangeIndex: 16719 entries, 0 to 16718\n",
      "Data columns (total 17 columns):\n",
      " #   Column           Non-Null Count  Dtype \n",
      "---  ------           --------------  ----- \n",
      " 0   Game_id          16719 non-null  object\n",
      " 1   Name             16719 non-null  object\n",
      " 2   Platform         16719 non-null  object\n",
      " 3   Year_of_Release  16719 non-null  object\n",
      " 4   Genre            16719 non-null  object\n",
      " 5   Publisher        16719 non-null  object\n",
      " 6   NA_Sales         16719 non-null  object\n",
      " 7   EU_Sales         16719 non-null  object\n",
      " 8   JP_Sales         16719 non-null  object\n",
      " 9   Other_Sales      16719 non-null  object\n",
      " 10  Global_Sales     16719 non-null  object\n",
      " 11  Critic_Score     16719 non-null  object\n",
      " 12  Critic_Count     16719 non-null  object\n",
      " 13  User_Score       16719 non-null  object\n",
      " 14  User_Count       16719 non-null  object\n",
      " 15  Developer        16719 non-null  object\n",
      " 16  Rating           16719 non-null  object\n",
      "dtypes: object(17)\n",
      "memory usage: 2.2+ MB\n"
     ]
    }
   ],
   "source": [
    "%store -r gamesales\n",
    "gamesales.info()"
   ]
  }
 ],
 "metadata": {
  "kernelspec": {
   "display_name": "base",
   "language": "python",
   "name": "python3"
  },
  "language_info": {
   "codemirror_mode": {
    "name": "ipython",
    "version": 3
   },
   "file_extension": ".py",
   "mimetype": "text/x-python",
   "name": "python",
   "nbconvert_exporter": "python",
   "pygments_lexer": "ipython3",
   "version": "3.9.13"
  },
  "orig_nbformat": 4
 },
 "nbformat": 4,
 "nbformat_minor": 2
}
